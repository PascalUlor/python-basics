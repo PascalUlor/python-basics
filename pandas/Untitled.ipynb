{
 "cells": [
  {
   "cell_type": "code",
   "execution_count": 1,
   "metadata": {},
   "outputs": [
    {
     "output_type": "execute_result",
     "data": {
      "text/plain": "['website_blocker.py',\n 'smallgray.png',\n 'Untitled1.ipynb',\n 'Untitled.ipynb',\n 'supermarkets.json',\n 'analytics.csv',\n 'sample.csv',\n 'Untitled2.ipynb',\n 'supermarkets.csv',\n 'GeoCode.ipynb',\n '.ipynb_checkpoints',\n 'hotels.xlsx',\n 'edit.PNG',\n 'notebook.tex',\n 'imagecopy.png']"
     },
     "metadata": {},
     "execution_count": 1
    }
   ],
   "source": [
    "import os\n",
    "os.listdir()"
   ]
  },
  {
   "cell_type": "code",
   "execution_count": null,
   "metadata": {},
   "outputs": [],
   "source": []
  }
 ],
 "metadata": {
  "kernelspec": {
   "display_name": "Python 3",
   "language": "python",
   "name": "python3"
  },
  "language_info": {
   "codemirror_mode": {
    "name": "ipython",
    "version": 3
   },
   "file_extension": ".py",
   "mimetype": "text/x-python",
   "name": "python",
   "nbconvert_exporter": "python",
   "pygments_lexer": "ipython3",
   "version": "3.7.5-final"
  }
 },
 "nbformat": 4,
 "nbformat_minor": 2
}